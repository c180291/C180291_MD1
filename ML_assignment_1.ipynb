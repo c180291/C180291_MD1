{
  "cells": [
    {
      "metadata": {
        "collapsed": true
      },
      "cell_type": "markdown",
      "source": "## 機械学習・データ分析(2019)　課題1\n\n### このnotebookには、いくつかの課題が記載されています。\n### 先頭から順番に、指示に従ってPython Codeをcellに記述してください。\n### codeを記述するcellは、各自適切に生成してください。\n\n### 課題提出方法\n#### 各自のGitHubに、学籍番号_MD1（たとえば、C180001_MD1)という名称のrepositoryを作成してください。\n#### このnotebookを各自のGitHubのリポジトリ（学籍番号_MD1)へコピーしてください。\n#### 各自のGitHubのリポジトリをoffice 365のメールアカウントを使用して、sugimura@ccg.ac.jpへ送信してください。メールの件名は、学籍番号_MD1としてください。\n##### 【重要】指定された方法で課題を提出することも課題に含まれています。"
    },
    {
      "metadata": {},
      "cell_type": "markdown",
      "source": "#### では、課題を始めます。\n\n##### 第1問：最初に、必要なモジュールを読み込みましょう。\n\n読み込むモジュールは、\n\n+ numpy\n+ pandas\n+ matplotlib.pyplot\n\nです。\n\nさらに、このnotebookの中にグラフを表示できるようにするための命令も記述しましょう。\n"
    },
    {
      "metadata": {},
      "cell_type": "markdown",
      "source": "##### 第2問：　学生名簿CSVファイル ICT2019.csvをデータフレーム型のデータdf_ict1に読み込んでください。\n\n##### ただし、ICT2019.csvには、indexとして用いることができるIDというcolumnが存在していますが、\n##### 新たにindexが付加されるように読み込んでください。\n"
    },
    {
      "metadata": {},
      "cell_type": "markdown",
      "source": "##### 第3問：学生名簿の学生データをID（学籍番号）の昇順に並べ替えて表示してください。並べ替えたデータを保存する必要はありません。\n##### ここで、学籍番号の昇順とは、C180000<C180001<C180002<・・・＜C180999<C190000<C190001<・・・<C190999となるような順序のことです。\n\n##### pandasモジュールには、データフレームを値に基づいて並び替えるためのメソッドsort_values()があります。\n##### sort_values()メソッドを使ってください。sort_values()メソッドは、ソートに利用するcolumnを引数としてもちます。\n##### たとえば、IDという名称のcolumnを利用するならば、引数には、by='ID' を設定します。\n"
    },
    {
      "metadata": {},
      "cell_type": "markdown",
      "source": "##### 第4問：データフレーム型データdf_ict1に関して、classごとの学生数をカウントしてください。\n##### 解答は、\n##### 2S: 2名\n##### 4M: 25名\n##### 3M: 23名\n##### のように出力してください。\n\n##### ただし、df_ict1の列(column)CLASSの値は、たとえば、df_ict1.loc[:, 'CLASS']などによって取得できる。\n##### df_ict1.loc[:, 'CLASS']がdf_ict1からどんなデータを取得できるかは、各自確かめてください。\n\n\n\n"
    },
    {
      "metadata": {},
      "cell_type": "markdown",
      "source": "##### 第5問：第4問と同様に、classごとの学生数をカウントしてください。\n##### ただし、ここでは、Pythonのメソッドsum()を利用してみよう。\n##### sum()は、リストの全ての要素の合計を求めます。\n##### リストの要素がbool型であるとき、sum()は、値がTrueである要素の個数を求めることになります。\n##### なお、sum()関数には、numpy.sum()というnumpyモジュールのsum()もあります。"
    },
    {
      "metadata": {
        "trusted": true
      },
      "cell_type": "markdown",
      "source": "##### 第6問：第4問で求めた各クラスの学生数を円グラフで表示してください。"
    },
    {
      "metadata": {
        "trusted": true
      },
      "cell_type": "markdown",
      "source": "##### 第7問　リスト内包表記を使用して、2桁の奇数からなるリストを作成してください。"
    },
    {
      "metadata": {},
      "cell_type": "markdown",
      "source": "##### 第8問：Titanic号csvファイルtitanic.csvをデータフレーム型のデータdf_titanic1に読み込み、先頭の5行を表示させてください。\n##### 読み込む際に、新たなIDをデータに付加しnaiさい。"
    },
    {
      "metadata": {},
      "cell_type": "markdown",
      "source": "##### 第9問：pandasのmean関数を用いることなく、全体の平均年齢、生存者の平均年齢、死亡者の平均年齢を求めなさい。\n##### ただし、画面に表示する小数点以下の桁数は2桁としてください。\n\n##### （参考）DataFrame型データdf_titanic1の要素の値を取得する方法には、\n+ loc\n+ iloc\n+ at\n+ iat\n##### などがあります。\n##### locやilocは、行と列の範囲を指定して取得するため、取り出されたデータもDataFrame型になります。\n##### これに対して、atやiatは、指定した行と列に存在する1つの要素の値を取り出すことができます。\n##### また、locやatは、行と列のラベル名を指定しますが、ilocやiatは、行番号と列番号を指定します。"
    },
    {
      "metadata": {},
      "cell_type": "markdown",
      "source": "#### 第10問：pandasのmean関数を用いて、全体の平均年齢、生存者の平均年齢、及び、死亡者の平均年齢を求めてください。\n#### それぞれの平均年齢を求めて表示するコードは、1行で記述することができるので、全部で3行のコードだけで解答することができます。\n\n##### DataFrame型データから特定の条件を満たす行を抽出する方法\n+ 比較演算子を用いて'Survived'が1である行を抽出する方法例　----　df_titanic1[df_titanic1['Survived'] == 1]\n+ query()メソッドを用いて'Survived'が1である行を抽出する方法例 ----- df_titanic1.query('Survived == 1')\n\n##### DataFtame型データの特定の列の平均を求める方法\n##### DataFrame型データdf_titanic1の列'Age'の平均を求めるには、df_titanic1['Age'].mean()　のように記述します。返り値は、この特定の列のデータ型となります。\n##### すべての列の平均を求めるには、df_titanic1.mean()　とします。このとき、返り値のデータ型は、Series型です。\n"
    },
    {
      "metadata": {
        "trusted": true
      },
      "cell_type": "code",
      "source": "\nimport numpy as np\nimport pandas as pd\nimport matplotlib.pyplot as plt\n\n\ndf_ict1 = pd.read_csv(\"ICT2019.csv\")\nprint(df_ict1)\n",
      "execution_count": 6,
      "outputs": [
        {
          "output_type": "stream",
          "text": "    ID     学籍番号 英称学科 CLASS                          氏名  score\n0    1  C180002   IW    2S                      髙見澤　弘和      1\n1    2  C180005   IW    2S                       弘中　哲哉      2\n2    3  C190314   IM    3M              NGUYEN THE ANH      3\n3    4  C190342   IM    3M                PHAM THI ANH      4\n4    5  C190348   IM    3M          CHAUDHARI DILLIRAJ      5\n5    6  C190353   IM    3M            NGUYEN CHI THANH      1\n6    7  C190370   IM    3M              TAMRAKAR BITTU      2\n7    8  C190396   IM    3M                 NWE NI HTWE      3\n8    9  C190402   IM    3M                GURUNG SUDIP      4\n9   10  C190403   IM    3M               KAUNG MYAT OO      5\n10  11  C190404   IM    3M                  YAMIN HTET      1\n11  12  C190415   IM    3M               PRABU PENDAWA      2\n12  13  C190439   IM    3M                 SAN YEE MOE      3\n13  14  C190452   IM    3M                 HEIN KO LAT      4\n14  15  C190455   IM    3M             AYE EAINDRA TUN      5\n15  16  C190465   IM    3M               SARI YULIANTI      1\n16  17  C190466   IM    3M             KHOLIFATUN NISA      2\n17  18  C190467   IM    3M                        呉　九門      3\n18  19  C190470   IM    3M                        黄　羽岑      4\n19  20  C190475   IM    3M                        江　玫衡      5\n20  21  C190477   IM    3M                EPSON NGANGI      1\n21  22  C190488   IM    3M                        閻　恵鈺      2\n22  23  C190492   IM    3M                        于　金鑫      3\n23  24  C190493   IM    3M                        趙　子帰      4\n24  25  C190495   IM    3M                         薛　奥      5\n25  26  C180101   IM    4M           NGUYEN TRUNG KIEN      1\n26  27  C180103   IM    4M           NGUYEN HUNG THANH      2\n27  28  C180118   IM    4M               PHAM THU THUY      3\n28  29  C180131   IM    4M              TRUONG VAN LOI      4\n29  30  C180137   IM    4M  ANG BRYAN CHRISTIAN DY TAN      5\n30  31  C180143   IM    4M               TRAN HUE NGAN      1\n31  32  C180159   IM    4M               GIAP VAN SANG      2\n32  33  C180166   IM    4M                LE DINH MANH      3\n33  34  C180189   IM    4M                         李　博      4\n34  35  C180209   IM    4M           TRAN THI UYEN CHI      5\n35  36  C180210   IM    4M             NGUYEN NGOC SON      1\n36  37  C180218   IM    4M             NGUYEN HUU THUC      2\n37  38  C180233   IM    4M            MICHAEL PANGESTU      3\n38  39  C180234   IM    4M          DOAN THI NGOC THUY      4\n39  40  C180242   IM    4M                         陸　銘      5\n40  41  C180249   IM    4M              ISLAM MD RISUL      1\n41  42  C180250   IM    4M                  SU MON ZAW      2\n42  43  C180258   IM    4M           NGUYEN THANH CONG      3\n43  44  C180267   IM    4M                        孫　靖康      4\n44  45  C180277   IM    4M                        趙　博雯      5\n45  46  C180288   IM    4M                         張　瑩      1\n46  47  C180289   IM    4M                   EI EI ZAW      2\n47  48  C180291   IM    4M                        劉　明研      3\n48  49  C180292   IM    4M                        金　永山      4\n49  50  C180293   IM    4M                  SOE SANDAR      5\n",
          "name": "stdout"
        }
      ]
    },
    {
      "metadata": {
        "trusted": true
      },
      "cell_type": "code",
      "source": "df_ict1.sort_values(by='ID')",
      "execution_count": 7,
      "outputs": [
        {
          "output_type": "execute_result",
          "execution_count": 7,
          "data": {
            "text/html": "<div>\n<style scoped>\n    .dataframe tbody tr th:only-of-type {\n        vertical-align: middle;\n    }\n\n    .dataframe tbody tr th {\n        vertical-align: top;\n    }\n\n    .dataframe thead th {\n        text-align: right;\n    }\n</style>\n<table border=\"1\" class=\"dataframe\">\n  <thead>\n    <tr style=\"text-align: right;\">\n      <th></th>\n      <th>ID</th>\n      <th>学籍番号</th>\n      <th>英称学科</th>\n      <th>CLASS</th>\n      <th>氏名</th>\n      <th>score</th>\n    </tr>\n  </thead>\n  <tbody>\n    <tr>\n      <th>0</th>\n      <td>1</td>\n      <td>C180002</td>\n      <td>IW</td>\n      <td>2S</td>\n      <td>髙見澤　弘和</td>\n      <td>1</td>\n    </tr>\n    <tr>\n      <th>1</th>\n      <td>2</td>\n      <td>C180005</td>\n      <td>IW</td>\n      <td>2S</td>\n      <td>弘中　哲哉</td>\n      <td>2</td>\n    </tr>\n    <tr>\n      <th>2</th>\n      <td>3</td>\n      <td>C190314</td>\n      <td>IM</td>\n      <td>3M</td>\n      <td>NGUYEN THE ANH</td>\n      <td>3</td>\n    </tr>\n    <tr>\n      <th>3</th>\n      <td>4</td>\n      <td>C190342</td>\n      <td>IM</td>\n      <td>3M</td>\n      <td>PHAM THI ANH</td>\n      <td>4</td>\n    </tr>\n    <tr>\n      <th>4</th>\n      <td>5</td>\n      <td>C190348</td>\n      <td>IM</td>\n      <td>3M</td>\n      <td>CHAUDHARI DILLIRAJ</td>\n      <td>5</td>\n    </tr>\n    <tr>\n      <th>5</th>\n      <td>6</td>\n      <td>C190353</td>\n      <td>IM</td>\n      <td>3M</td>\n      <td>NGUYEN CHI THANH</td>\n      <td>1</td>\n    </tr>\n    <tr>\n      <th>6</th>\n      <td>7</td>\n      <td>C190370</td>\n      <td>IM</td>\n      <td>3M</td>\n      <td>TAMRAKAR BITTU</td>\n      <td>2</td>\n    </tr>\n    <tr>\n      <th>7</th>\n      <td>8</td>\n      <td>C190396</td>\n      <td>IM</td>\n      <td>3M</td>\n      <td>NWE NI HTWE</td>\n      <td>3</td>\n    </tr>\n    <tr>\n      <th>8</th>\n      <td>9</td>\n      <td>C190402</td>\n      <td>IM</td>\n      <td>3M</td>\n      <td>GURUNG SUDIP</td>\n      <td>4</td>\n    </tr>\n    <tr>\n      <th>9</th>\n      <td>10</td>\n      <td>C190403</td>\n      <td>IM</td>\n      <td>3M</td>\n      <td>KAUNG MYAT OO</td>\n      <td>5</td>\n    </tr>\n    <tr>\n      <th>10</th>\n      <td>11</td>\n      <td>C190404</td>\n      <td>IM</td>\n      <td>3M</td>\n      <td>YAMIN HTET</td>\n      <td>1</td>\n    </tr>\n    <tr>\n      <th>11</th>\n      <td>12</td>\n      <td>C190415</td>\n      <td>IM</td>\n      <td>3M</td>\n      <td>PRABU PENDAWA</td>\n      <td>2</td>\n    </tr>\n    <tr>\n      <th>12</th>\n      <td>13</td>\n      <td>C190439</td>\n      <td>IM</td>\n      <td>3M</td>\n      <td>SAN YEE MOE</td>\n      <td>3</td>\n    </tr>\n    <tr>\n      <th>13</th>\n      <td>14</td>\n      <td>C190452</td>\n      <td>IM</td>\n      <td>3M</td>\n      <td>HEIN KO LAT</td>\n      <td>4</td>\n    </tr>\n    <tr>\n      <th>14</th>\n      <td>15</td>\n      <td>C190455</td>\n      <td>IM</td>\n      <td>3M</td>\n      <td>AYE EAINDRA TUN</td>\n      <td>5</td>\n    </tr>\n    <tr>\n      <th>15</th>\n      <td>16</td>\n      <td>C190465</td>\n      <td>IM</td>\n      <td>3M</td>\n      <td>SARI YULIANTI</td>\n      <td>1</td>\n    </tr>\n    <tr>\n      <th>16</th>\n      <td>17</td>\n      <td>C190466</td>\n      <td>IM</td>\n      <td>3M</td>\n      <td>KHOLIFATUN NISA</td>\n      <td>2</td>\n    </tr>\n    <tr>\n      <th>17</th>\n      <td>18</td>\n      <td>C190467</td>\n      <td>IM</td>\n      <td>3M</td>\n      <td>呉　九門</td>\n      <td>3</td>\n    </tr>\n    <tr>\n      <th>18</th>\n      <td>19</td>\n      <td>C190470</td>\n      <td>IM</td>\n      <td>3M</td>\n      <td>黄　羽岑</td>\n      <td>4</td>\n    </tr>\n    <tr>\n      <th>19</th>\n      <td>20</td>\n      <td>C190475</td>\n      <td>IM</td>\n      <td>3M</td>\n      <td>江　玫衡</td>\n      <td>5</td>\n    </tr>\n    <tr>\n      <th>20</th>\n      <td>21</td>\n      <td>C190477</td>\n      <td>IM</td>\n      <td>3M</td>\n      <td>EPSON NGANGI</td>\n      <td>1</td>\n    </tr>\n    <tr>\n      <th>21</th>\n      <td>22</td>\n      <td>C190488</td>\n      <td>IM</td>\n      <td>3M</td>\n      <td>閻　恵鈺</td>\n      <td>2</td>\n    </tr>\n    <tr>\n      <th>22</th>\n      <td>23</td>\n      <td>C190492</td>\n      <td>IM</td>\n      <td>3M</td>\n      <td>于　金鑫</td>\n      <td>3</td>\n    </tr>\n    <tr>\n      <th>23</th>\n      <td>24</td>\n      <td>C190493</td>\n      <td>IM</td>\n      <td>3M</td>\n      <td>趙　子帰</td>\n      <td>4</td>\n    </tr>\n    <tr>\n      <th>24</th>\n      <td>25</td>\n      <td>C190495</td>\n      <td>IM</td>\n      <td>3M</td>\n      <td>薛　奥</td>\n      <td>5</td>\n    </tr>\n    <tr>\n      <th>25</th>\n      <td>26</td>\n      <td>C180101</td>\n      <td>IM</td>\n      <td>4M</td>\n      <td>NGUYEN TRUNG KIEN</td>\n      <td>1</td>\n    </tr>\n    <tr>\n      <th>26</th>\n      <td>27</td>\n      <td>C180103</td>\n      <td>IM</td>\n      <td>4M</td>\n      <td>NGUYEN HUNG THANH</td>\n      <td>2</td>\n    </tr>\n    <tr>\n      <th>27</th>\n      <td>28</td>\n      <td>C180118</td>\n      <td>IM</td>\n      <td>4M</td>\n      <td>PHAM THU THUY</td>\n      <td>3</td>\n    </tr>\n    <tr>\n      <th>28</th>\n      <td>29</td>\n      <td>C180131</td>\n      <td>IM</td>\n      <td>4M</td>\n      <td>TRUONG VAN LOI</td>\n      <td>4</td>\n    </tr>\n    <tr>\n      <th>29</th>\n      <td>30</td>\n      <td>C180137</td>\n      <td>IM</td>\n      <td>4M</td>\n      <td>ANG BRYAN CHRISTIAN DY TAN</td>\n      <td>5</td>\n    </tr>\n    <tr>\n      <th>30</th>\n      <td>31</td>\n      <td>C180143</td>\n      <td>IM</td>\n      <td>4M</td>\n      <td>TRAN HUE NGAN</td>\n      <td>1</td>\n    </tr>\n    <tr>\n      <th>31</th>\n      <td>32</td>\n      <td>C180159</td>\n      <td>IM</td>\n      <td>4M</td>\n      <td>GIAP VAN SANG</td>\n      <td>2</td>\n    </tr>\n    <tr>\n      <th>32</th>\n      <td>33</td>\n      <td>C180166</td>\n      <td>IM</td>\n      <td>4M</td>\n      <td>LE DINH MANH</td>\n      <td>3</td>\n    </tr>\n    <tr>\n      <th>33</th>\n      <td>34</td>\n      <td>C180189</td>\n      <td>IM</td>\n      <td>4M</td>\n      <td>李　博</td>\n      <td>4</td>\n    </tr>\n    <tr>\n      <th>34</th>\n      <td>35</td>\n      <td>C180209</td>\n      <td>IM</td>\n      <td>4M</td>\n      <td>TRAN THI UYEN CHI</td>\n      <td>5</td>\n    </tr>\n    <tr>\n      <th>35</th>\n      <td>36</td>\n      <td>C180210</td>\n      <td>IM</td>\n      <td>4M</td>\n      <td>NGUYEN NGOC SON</td>\n      <td>1</td>\n    </tr>\n    <tr>\n      <th>36</th>\n      <td>37</td>\n      <td>C180218</td>\n      <td>IM</td>\n      <td>4M</td>\n      <td>NGUYEN HUU THUC</td>\n      <td>2</td>\n    </tr>\n    <tr>\n      <th>37</th>\n      <td>38</td>\n      <td>C180233</td>\n      <td>IM</td>\n      <td>4M</td>\n      <td>MICHAEL PANGESTU</td>\n      <td>3</td>\n    </tr>\n    <tr>\n      <th>38</th>\n      <td>39</td>\n      <td>C180234</td>\n      <td>IM</td>\n      <td>4M</td>\n      <td>DOAN THI NGOC THUY</td>\n      <td>4</td>\n    </tr>\n    <tr>\n      <th>39</th>\n      <td>40</td>\n      <td>C180242</td>\n      <td>IM</td>\n      <td>4M</td>\n      <td>陸　銘</td>\n      <td>5</td>\n    </tr>\n    <tr>\n      <th>40</th>\n      <td>41</td>\n      <td>C180249</td>\n      <td>IM</td>\n      <td>4M</td>\n      <td>ISLAM MD RISUL</td>\n      <td>1</td>\n    </tr>\n    <tr>\n      <th>41</th>\n      <td>42</td>\n      <td>C180250</td>\n      <td>IM</td>\n      <td>4M</td>\n      <td>SU MON ZAW</td>\n      <td>2</td>\n    </tr>\n    <tr>\n      <th>42</th>\n      <td>43</td>\n      <td>C180258</td>\n      <td>IM</td>\n      <td>4M</td>\n      <td>NGUYEN THANH CONG</td>\n      <td>3</td>\n    </tr>\n    <tr>\n      <th>43</th>\n      <td>44</td>\n      <td>C180267</td>\n      <td>IM</td>\n      <td>4M</td>\n      <td>孫　靖康</td>\n      <td>4</td>\n    </tr>\n    <tr>\n      <th>44</th>\n      <td>45</td>\n      <td>C180277</td>\n      <td>IM</td>\n      <td>4M</td>\n      <td>趙　博雯</td>\n      <td>5</td>\n    </tr>\n    <tr>\n      <th>45</th>\n      <td>46</td>\n      <td>C180288</td>\n      <td>IM</td>\n      <td>4M</td>\n      <td>張　瑩</td>\n      <td>1</td>\n    </tr>\n    <tr>\n      <th>46</th>\n      <td>47</td>\n      <td>C180289</td>\n      <td>IM</td>\n      <td>4M</td>\n      <td>EI EI ZAW</td>\n      <td>2</td>\n    </tr>\n    <tr>\n      <th>47</th>\n      <td>48</td>\n      <td>C180291</td>\n      <td>IM</td>\n      <td>4M</td>\n      <td>劉　明研</td>\n      <td>3</td>\n    </tr>\n    <tr>\n      <th>48</th>\n      <td>49</td>\n      <td>C180292</td>\n      <td>IM</td>\n      <td>4M</td>\n      <td>金　永山</td>\n      <td>4</td>\n    </tr>\n    <tr>\n      <th>49</th>\n      <td>50</td>\n      <td>C180293</td>\n      <td>IM</td>\n      <td>4M</td>\n      <td>SOE SANDAR</td>\n      <td>5</td>\n    </tr>\n  </tbody>\n</table>\n</div>",
            "text/plain": "    ID     学籍番号 英称学科 CLASS                          氏名  score\n0    1  C180002   IW    2S                      髙見澤　弘和      1\n1    2  C180005   IW    2S                       弘中　哲哉      2\n2    3  C190314   IM    3M              NGUYEN THE ANH      3\n3    4  C190342   IM    3M                PHAM THI ANH      4\n4    5  C190348   IM    3M          CHAUDHARI DILLIRAJ      5\n5    6  C190353   IM    3M            NGUYEN CHI THANH      1\n6    7  C190370   IM    3M              TAMRAKAR BITTU      2\n7    8  C190396   IM    3M                 NWE NI HTWE      3\n8    9  C190402   IM    3M                GURUNG SUDIP      4\n9   10  C190403   IM    3M               KAUNG MYAT OO      5\n10  11  C190404   IM    3M                  YAMIN HTET      1\n11  12  C190415   IM    3M               PRABU PENDAWA      2\n12  13  C190439   IM    3M                 SAN YEE MOE      3\n13  14  C190452   IM    3M                 HEIN KO LAT      4\n14  15  C190455   IM    3M             AYE EAINDRA TUN      5\n15  16  C190465   IM    3M               SARI YULIANTI      1\n16  17  C190466   IM    3M             KHOLIFATUN NISA      2\n17  18  C190467   IM    3M                        呉　九門      3\n18  19  C190470   IM    3M                        黄　羽岑      4\n19  20  C190475   IM    3M                        江　玫衡      5\n20  21  C190477   IM    3M                EPSON NGANGI      1\n21  22  C190488   IM    3M                        閻　恵鈺      2\n22  23  C190492   IM    3M                        于　金鑫      3\n23  24  C190493   IM    3M                        趙　子帰      4\n24  25  C190495   IM    3M                         薛　奥      5\n25  26  C180101   IM    4M           NGUYEN TRUNG KIEN      1\n26  27  C180103   IM    4M           NGUYEN HUNG THANH      2\n27  28  C180118   IM    4M               PHAM THU THUY      3\n28  29  C180131   IM    4M              TRUONG VAN LOI      4\n29  30  C180137   IM    4M  ANG BRYAN CHRISTIAN DY TAN      5\n30  31  C180143   IM    4M               TRAN HUE NGAN      1\n31  32  C180159   IM    4M               GIAP VAN SANG      2\n32  33  C180166   IM    4M                LE DINH MANH      3\n33  34  C180189   IM    4M                         李　博      4\n34  35  C180209   IM    4M           TRAN THI UYEN CHI      5\n35  36  C180210   IM    4M             NGUYEN NGOC SON      1\n36  37  C180218   IM    4M             NGUYEN HUU THUC      2\n37  38  C180233   IM    4M            MICHAEL PANGESTU      3\n38  39  C180234   IM    4M          DOAN THI NGOC THUY      4\n39  40  C180242   IM    4M                         陸　銘      5\n40  41  C180249   IM    4M              ISLAM MD RISUL      1\n41  42  C180250   IM    4M                  SU MON ZAW      2\n42  43  C180258   IM    4M           NGUYEN THANH CONG      3\n43  44  C180267   IM    4M                        孫　靖康      4\n44  45  C180277   IM    4M                        趙　博雯      5\n45  46  C180288   IM    4M                         張　瑩      1\n46  47  C180289   IM    4M                   EI EI ZAW      2\n47  48  C180291   IM    4M                        劉　明研      3\n48  49  C180292   IM    4M                        金　永山      4\n49  50  C180293   IM    4M                  SOE SANDAR      5"
          },
          "metadata": {}
        }
      ]
    },
    {
      "metadata": {
        "trusted": true
      },
      "cell_type": "code",
      "source": "print(df_ict1.loc[:, 'CLASS'])",
      "execution_count": 8,
      "outputs": [
        {
          "output_type": "stream",
          "text": "0     2S\n1     2S\n2     3M\n3     3M\n4     3M\n5     3M\n6     3M\n7     3M\n8     3M\n9     3M\n10    3M\n11    3M\n12    3M\n13    3M\n14    3M\n15    3M\n16    3M\n17    3M\n18    3M\n19    3M\n20    3M\n21    3M\n22    3M\n23    3M\n24    3M\n25    4M\n26    4M\n27    4M\n28    4M\n29    4M\n30    4M\n31    4M\n32    4M\n33    4M\n34    4M\n35    4M\n36    4M\n37    4M\n38    4M\n39    4M\n40    4M\n41    4M\n42    4M\n43    4M\n44    4M\n45    4M\n46    4M\n47    4M\n48    4M\n49    4M\nName: CLASS, dtype: object\n",
          "name": "stdout"
        }
      ]
    },
    {
      "metadata": {
        "trusted": true
      },
      "cell_type": "code",
      "source": "s_2s = 0\ns_4m = 0\ns_3m = 0\n\nfor name in df_ict1['CLASS']:\n    if name == '2S':\n        s_2s += 1\n    elif name == '4M':\n        s_4m += 1\n    elif name == '3M':\n        s_3m += 1\n        \nprint('2S:', s_2s)\nprint('4M:', s_4m)\nprint('3M:', s_3m)",
      "execution_count": 9,
      "outputs": [
        {
          "output_type": "stream",
          "text": "2S: 2\n4M: 25\n3M: 23\n",
          "name": "stdout"
        }
      ]
    },
    {
      "metadata": {
        "trusted": true
      },
      "cell_type": "code",
      "source": "s_2s1 = df_ict1['CLASS'] == '2S'\ns_4m1 = df_ict1['CLASS'] == '4M'\ns_3m1 = df_ict1['CLASS'] == '3M'\n\nprint('2S:',s_2s1.sum())\nprint('4M:',s_4m1.sum())\nprint('3M:',s_3m1.sum())",
      "execution_count": 10,
      "outputs": [
        {
          "output_type": "stream",
          "text": "2S: 2\n4M: 25\n3M: 23\n",
          "name": "stdout"
        }
      ]
    },
    {
      "metadata": {
        "trusted": true
      },
      "cell_type": "code",
      "source": "series = pd.Series([s_2s, s_4m, s_3m], index = ['2S','4M','3M'], name = 'CLASS')\nseries.plot.pie(figsize = (4,4))\nplt.show()",
      "execution_count": 11,
      "outputs": [
        {
          "output_type": "display_data",
          "data": {
            "image/png": "[encoded data removed]",
            "text/plain": "<Figure size 288x288 with 1 Axes>"
          },
          "metadata": {}
        }
      ]
    },
    {
      "metadata": {
        "trusted": true
      },
      "cell_type": "code",
      "source": "[i for i in range(10,100) if i % 2 ==1]",
      "execution_count": 12,
      "outputs": [
        {
          "output_type": "execute_result",
          "execution_count": 12,
          "data": {
            "text/plain": "[11,\n 13,\n 15,\n 17,\n 19,\n 21,\n 23,\n 25,\n 27,\n 29,\n 31,\n 33,\n 35,\n 37,\n 39,\n 41,\n 43,\n 45,\n 47,\n 49,\n 51,\n 53,\n 55,\n 57,\n 59,\n 61,\n 63,\n 65,\n 67,\n 69,\n 71,\n 73,\n 75,\n 77,\n 79,\n 81,\n 83,\n 85,\n 87,\n 89,\n 91,\n 93,\n 95,\n 97,\n 99]"
          },
          "metadata": {}
        }
      ]
    },
    {
      "metadata": {
        "trusted": true
      },
      "cell_type": "code",
      "source": "df_titanic1 = pd.read_csv('titanic.csv')\ndf_titanic1.head()",
      "execution_count": 13,
      "outputs": [
        {
          "output_type": "execute_result",
          "execution_count": 13,
          "data": {
            "text/html": "<div>\n<style scoped>\n    .dataframe tbody tr th:only-of-type {\n        vertical-align: middle;\n    }\n\n    .dataframe tbody tr th {\n        vertical-align: top;\n    }\n\n    .dataframe thead th {\n        text-align: right;\n    }\n</style>\n<table border=\"1\" class=\"dataframe\">\n  <thead>\n    <tr style=\"text-align: right;\">\n      <th></th>\n      <th>Unnamed: 0</th>\n      <th>PassengerId</th>\n      <th>Survived</th>\n      <th>Pclass</th>\n      <th>Name</th>\n      <th>Sex</th>\n      <th>Age</th>\n      <th>SibSp</th>\n      <th>Parch</th>\n      <th>Ticket</th>\n      <th>Fare</th>\n      <th>Cabin</th>\n      <th>Embarked</th>\n    </tr>\n  </thead>\n  <tbody>\n    <tr>\n      <th>0</th>\n      <td>0</td>\n      <td>1</td>\n      <td>0</td>\n      <td>3</td>\n      <td>Braund, Mr. Owen Harris</td>\n      <td>male</td>\n      <td>22.0</td>\n      <td>1</td>\n      <td>0</td>\n      <td>A/5 21171</td>\n      <td>7.2500</td>\n      <td>NaN</td>\n      <td>S</td>\n    </tr>\n    <tr>\n      <th>1</th>\n      <td>1</td>\n      <td>2</td>\n      <td>1</td>\n      <td>1</td>\n      <td>Cumings, Mrs. John Bradley (Florence Briggs Th...</td>\n      <td>female</td>\n      <td>38.0</td>\n      <td>1</td>\n      <td>0</td>\n      <td>PC 17599</td>\n      <td>71.2833</td>\n      <td>C85</td>\n      <td>C</td>\n    </tr>\n    <tr>\n      <th>2</th>\n      <td>2</td>\n      <td>3</td>\n      <td>1</td>\n      <td>3</td>\n      <td>Heikkinen, Miss. Laina</td>\n      <td>female</td>\n      <td>26.0</td>\n      <td>0</td>\n      <td>0</td>\n      <td>STON/O2. 3101282</td>\n      <td>7.9250</td>\n      <td>NaN</td>\n      <td>S</td>\n    </tr>\n    <tr>\n      <th>3</th>\n      <td>3</td>\n      <td>4</td>\n      <td>1</td>\n      <td>1</td>\n      <td>Futrelle, Mrs. Jacques Heath (Lily May Peel)</td>\n      <td>female</td>\n      <td>35.0</td>\n      <td>1</td>\n      <td>0</td>\n      <td>113803</td>\n      <td>53.1000</td>\n      <td>C123</td>\n      <td>S</td>\n    </tr>\n    <tr>\n      <th>4</th>\n      <td>4</td>\n      <td>5</td>\n      <td>0</td>\n      <td>3</td>\n      <td>Allen, Mr. William Henry</td>\n      <td>male</td>\n      <td>35.0</td>\n      <td>0</td>\n      <td>0</td>\n      <td>373450</td>\n      <td>8.0500</td>\n      <td>NaN</td>\n      <td>S</td>\n    </tr>\n  </tbody>\n</table>\n</div>",
            "text/plain": "   Unnamed: 0  PassengerId  Survived  Pclass  \\\n0           0            1         0       3   \n1           1            2         1       1   \n2           2            3         1       3   \n3           3            4         1       1   \n4           4            5         0       3   \n\n                                                Name     Sex   Age  SibSp  \\\n0                            Braund, Mr. Owen Harris    male  22.0      1   \n1  Cumings, Mrs. John Bradley (Florence Briggs Th...  female  38.0      1   \n2                             Heikkinen, Miss. Laina  female  26.0      0   \n3       Futrelle, Mrs. Jacques Heath (Lily May Peel)  female  35.0      1   \n4                           Allen, Mr. William Henry    male  35.0      0   \n\n   Parch            Ticket     Fare Cabin Embarked  \n0      0         A/5 21171   7.2500   NaN        S  \n1      0          PC 17599  71.2833   C85        C  \n2      0  STON/O2. 3101282   7.9250   NaN        S  \n3      0            113803  53.1000  C123        S  \n4      0            373450   8.0500   NaN        S  "
          },
          "metadata": {}
        }
      ]
    },
    {
      "metadata": {
        "trusted": true
      },
      "cell_type": "code",
      "source": "",
      "execution_count": null,
      "outputs": []
    }
  ],
  "metadata": {
    "kernelspec": {
      "name": "python36",
      "display_name": "Python 3.6",
      "language": "python"
    },
    "language_info": {
      "mimetype": "text/x-python",
      "nbconvert_exporter": "python",
      "name": "python",
      "pygments_lexer": "ipython3",
      "version": "3.6.6",
      "file_extension": ".py",
      "codemirror_mode": {
        "version": 3,
        "name": "ipython"
      }
    }
  },
  "nbformat": 4,
  "nbformat_minor": 2
}